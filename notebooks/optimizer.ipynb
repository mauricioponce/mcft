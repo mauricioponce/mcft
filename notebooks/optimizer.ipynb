{
 "cells": [
  {
   "cell_type": "code",
   "execution_count": 8,
   "metadata": {},
   "outputs": [
    {
     "name": "stdout",
     "output_type": "stream",
     "text": [
      "X = [ 2.], Y = [ 0.75]\n",
      "X = [ 2.], Y = [ 0.75]\n",
      "X = [ 2.00000001], Y = [ 0.75000001]\n",
      "X = [ 0.99999999], Y = [ 0.75000001]\n",
      "X = [ 1.5], Y = [ 0.5]\n",
      "X = [ 1.5], Y = [ 0.5]\n",
      "X = [ 1.50000001], Y = [ 0.5]\n",
      "Optimization terminated successfully.    (Exit mode 0)\n",
      "            Current function value: 0.5\n",
      "            Iterations: 2\n",
      "            Function evaluations: 7\n",
      "            Gradient evaluations: 2\n",
      "Minima found at X = [ 1.5], Y = 0.5\n",
      "X = [ 0.5  0.6  0.7  0.8  0.9  1.   1.1  1.2  1.3  1.4  1.5  1.6  1.7  1.8  1.9\n",
      "  2.   2.1  2.2  2.3  2.4  2.5], Y = [ 1.5   1.31  1.14  0.99  0.86  0.75  0.66  0.59  0.54  0.51  0.5   0.51\n",
      "  0.54  0.59  0.66  0.75  0.86  0.99  1.14  1.31  1.5 ]\n"
     ]
    },
    {
     "data": {
      "image/png": "[encoded data removed]",
      "text/plain": [
       "<matplotlib.figure.Figure at 0x115f73e10>"
      ]
     },
     "metadata": {},
     "output_type": "display_data"
    }
   ],
   "source": [
    "import pandas as pd\n",
    "import matplotlib.pyplot as plt\n",
    "import numpy as np\n",
    "import scipy.optimize as spo\n",
    "\n",
    "def f(X):\n",
    "    '''Given an scalar X, return some value (real number)'''\n",
    "    Y = (X - 1.5)**2 + 0.5\n",
    "    print('X = {}, Y = {}'.format(X, Y))\n",
    "    return Y\n",
    "\n",
    "def test_run():\n",
    "    Xguess = 2.0\n",
    "    min_result = spo.minimize(f, Xguess, method='SLSQP', options={'disp': True})\n",
    "    print('Minima found at X = {}, Y = {}'.format(min_result.x, min_result.fun))\n",
    "    \n",
    "    Xplot = np.linspace(0.5, 2.5, 21)\n",
    "    Yplot = f(Xplot)\n",
    "    plt.plot(Xplot, Yplot)\n",
    "    plt.plot(min_result.x, min_result.fun, 'ro')\n",
    "    plt.title('Minima of an objective function')\n",
    "    plt.show()\n",
    "    \n",
    "if __name__ == '__main__':\n",
    "    test_run()"
   ]
  },
  {
   "cell_type": "code",
   "execution_count": null,
   "metadata": {
    "collapsed": true
   },
   "outputs": [],
   "source": []
  }
 ],
 "metadata": {
  "kernelspec": {
   "display_name": "Python 3",
   "language": "python",
   "name": "python3"
  },
  "language_info": {
   "codemirror_mode": {
    "name": "ipython",
    "version": 3
   },
   "file_extension": ".py",
   "mimetype": "text/x-python",
   "name": "python",
   "nbconvert_exporter": "python",
   "pygments_lexer": "ipython3",
   "version": "3.6.1"
  }
 },
 "nbformat": 4,
 "nbformat_minor": 2
}
