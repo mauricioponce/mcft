{
 "cells": [
  {
   "cell_type": "code",
   "execution_count": 14,
   "metadata": {},
   "outputs": [
    {
     "data": {
      "image/png": "[encoded data removed]",
      "text/plain": [
       "<matplotlib.figure.Figure at 0x102c45630>"
      ]
     },
     "metadata": {},
     "output_type": "display_data"
    },
    {
     "name": "stdout",
     "output_type": "stream",
     "text": [
      "(:\n"
     ]
    }
   ],
   "source": [
    "\"\"\" plot a histogram\"\"\"\n",
    "\n",
    "import pandas as pd\n",
    "import matplotlib.pyplot as plt\n",
    "\n",
    "\n",
    "def make_histogram():\n",
    "    dates = pd.date_range('2017-08-03', '2017-08-31')\n",
    "    \n",
    "    currencies = ['BTC_VIA', 'BTC_LTC', 'BTC_PINK']\n",
    "    \n",
    "    df = get_data(currencies, dates)\n",
    "    \n",
    "    daily_returns = compute_daily_return(df)\n",
    "    \n",
    "    daily_returns['BTC_VIA'].hist(bins=20, label='VIA')\n",
    "    daily_returns['BTC_LTC'].hist(bins=20, label='LTC')\n",
    "    daily_returns['BTC_PINK'].hist(bins=20, label='PINK')\n",
    "    plt.legend(loc='upper right')\n",
    "    plt.show()\n",
    "    \n",
    "    return None\n",
    "\n",
    "\n",
    "def get_data(currencies, dates):\n",
    "    df1 = pd.DataFrame(index=dates)\n",
    "    for currency in currencies:\n",
    "        df_currency = pd.read_csv('data/{}.csv'.format(currency), index_col=\"date\", parse_dates=True, usecols=['date', 'close'], na_values=['nan'])\n",
    "        df_currency = df_currency.rename(columns={'close': currency})\n",
    "        df1 = df1.join(df_currency)\n",
    "    return df1\n",
    "    \n",
    "def plot_data(df, title='prices', ylabel='Price'):\n",
    "    ax = df.plot(title=title, fontsize=2)\n",
    "    ax.set_xlabel('Date')\n",
    "    ax.set_ylabel(ylabel)\n",
    "    plt.show()\n",
    "    \n",
    "def compute_daily_return(df):\n",
    "    daily_returns = (df/ df.shift(1)) - 1\n",
    "    daily_returns.iloc[0, :] = 0\n",
    "    return daily_returns\n",
    "    \n",
    "    \n",
    "if __name__ == \"__main__\":\n",
    "    make_histogram()\n",
    "    print('(:')\n",
    "    "
   ]
  },
  {
   "cell_type": "code",
   "execution_count": null,
   "metadata": {
    "collapsed": true
   },
   "outputs": [],
   "source": []
  },
  {
   "cell_type": "code",
   "execution_count": null,
   "metadata": {
    "collapsed": true
   },
   "outputs": [],
   "source": []
  }
 ],
 "metadata": {
  "kernelspec": {
   "display_name": "Python 3",
   "language": "python",
   "name": "python3"
  },
  "language_info": {
   "codemirror_mode": {
    "name": "ipython",
    "version": 3
   },
   "file_extension": ".py",
   "mimetype": "text/x-python",
   "name": "python",
   "nbconvert_exporter": "python",
   "pygments_lexer": "ipython3",
   "version": "3.6.1"
  }
 },
 "nbformat": 4,
 "nbformat_minor": 2
}
