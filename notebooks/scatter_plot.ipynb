{
 "cells": [
  {
   "cell_type": "code",
   "execution_count": 1,
   "metadata": {},
   "outputs": [
    {
     "name": "stdout",
     "output_type": "stream",
     "text": [
      "beta_VIA =  0.180970585787\n",
      "alpha_VIA=  -0.0019316536483\n"
     ]
    },
    {
     "data": {
      "image/png": "[encoded data removed]",
      "text/plain": [
       "<matplotlib.figure.Figure at 0x7f0df7eaf940>"
      ]
     },
     "metadata": {},
     "output_type": "display_data"
    },
    {
     "name": "stdout",
     "output_type": "stream",
     "text": [
      "beta_LTC =  0.180970585787\n",
      "alpha_LTC=  -0.0019316536483\n"
     ]
    },
    {
     "data": {
      "image/png": "[encoded data removed]",
      "text/plain": [
       "<matplotlib.figure.Figure at 0x7f0df7b56710>"
      ]
     },
     "metadata": {},
     "output_type": "display_data"
    },
    {
     "name": "stdout",
     "output_type": "stream",
     "text": [
      "(:\n"
     ]
    }
   ],
   "source": [
    "\"\"\" plot a scatter plot \"\"\"\n",
    "\n",
    "import pandas as pd\n",
    "import matplotlib.pyplot as plt\n",
    "import numpy as np\n",
    "\n",
    "\n",
    "def make_scatter():\n",
    "    dates = pd.date_range('2017-08-03', '2017-08-31')\n",
    "    \n",
    "    a = {'via': 'BTC_VIA', 'ltc': 'BTC_LTC', 'pink': 'BTC_PINK'}\n",
    "    \n",
    "    currencies = [a['via'], a['ltc'], a['pink']]\n",
    "    \n",
    "    df = get_data(currencies, dates)\n",
    "    \n",
    "    daily_returns = compute_daily_return(df)\n",
    "    \n",
    "    daily_returns.plot(kind='scatter', x=a['via'], y=a['ltc'])\n",
    "    beta_VIA, alpha_VIA = np.polyfit(daily_returns[a['via']], daily_returns[a['ltc']], 1)\n",
    "    print(\"beta_VIA = \", beta_VIA)\n",
    "    print('alpha_VIA= ', alpha_VIA)\n",
    "    plt.plot(daily_returns[a['via']], beta_VIA * daily_returns[a['via']] + alpha_VIA, '-', color='r')\n",
    "    plt.show()\n",
    "    \n",
    "    \n",
    "    daily_returns.plot(kind='scatter', x=a['via'], y=a['ltc'])\n",
    "    beta_LTC, alpha_LTC = np.polyfit(daily_returns[a['via']], daily_returns[a['ltc']], 1)\n",
    "    print(\"beta_LTC = \", beta_LTC)\n",
    "    print('alpha_LTC= ', alpha_LTC)\n",
    "    plt.plot(daily_returns[a['ltc']], beta_LTC * daily_returns[a['ltc']] + alpha_LTC, '-', color='r')\n",
    "    plt.show()\n",
    "    \n",
    "    return None\n",
    "\n",
    "\n",
    "def get_data(currencies, dates):\n",
    "    df1 = pd.DataFrame(index=dates)\n",
    "    for currency in currencies:\n",
    "        df_currency = pd.read_csv('data/{}.csv'.format(currency), index_col=\"date\", parse_dates=True, usecols=['date', 'close'], na_values=['nan'])\n",
    "        df_currency = df_currency.rename(columns={'close': currency})\n",
    "        df1 = df1.join(df_currency)\n",
    "    return df1\n",
    "    \n",
    "    \n",
    "def compute_daily_return(df):\n",
    "    daily_returns = (df/ df.shift(1)) - 1\n",
    "    daily_returns.iloc[0, :] = 0\n",
    "    return daily_returns\n",
    "    \n",
    "    \n",
    "if __name__ == \"__main__\":\n",
    "    make_scatter()\n",
    "    print('(:')\n",
    "    "
   ]
  },
  {
   "cell_type": "markdown",
   "metadata": {},
   "source": [
    "## "
   ]
  },
  {
   "cell_type": "code",
   "execution_count": null,
   "metadata": {
    "collapsed": true
   },
   "outputs": [],
   "source": []
  }
 ],
 "metadata": {
  "kernelspec": {
   "display_name": "Python 3",
   "language": "python",
   "name": "python3"
  },
  "language_info": {
   "codemirror_mode": {
    "name": "ipython",
    "version": 3
   },
   "file_extension": ".py",
   "mimetype": "text/x-python",
   "name": "python",
   "nbconvert_exporter": "python",
   "pygments_lexer": "ipython3",
   "version": "3.6.2"
  }
 },
 "nbformat": 4,
 "nbformat_minor": 2
}
